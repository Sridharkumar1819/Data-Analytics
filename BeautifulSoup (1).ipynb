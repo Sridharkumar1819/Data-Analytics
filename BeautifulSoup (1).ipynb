{
 "cells": [
  {
   "cell_type": "code",
   "execution_count": 2,
   "id": "714e577f-20e6-4a65-b4e1-17d08a897690",
   "metadata": {},
   "outputs": [
    {
     "name": "stdout",
     "output_type": "stream",
     "text": [
      "Collecting bs4\n",
      "  Downloading bs4-0.0.2-py2.py3-none-any.whl.metadata (411 bytes)\n",
      "Requirement already satisfied: beautifulsoup4 in c:\\users\\gjhus\\appdata\\local\\programs\\python\\python313\\lib\\site-packages (from bs4) (4.13.0)\n",
      "Requirement already satisfied: soupsieve>1.2 in c:\\users\\gjhus\\appdata\\local\\programs\\python\\python313\\lib\\site-packages (from beautifulsoup4->bs4) (2.6)\n",
      "Requirement already satisfied: typing-extensions in c:\\users\\gjhus\\appdata\\local\\programs\\python\\python313\\lib\\site-packages (from beautifulsoup4->bs4) (4.12.2)\n",
      "Downloading bs4-0.0.2-py2.py3-none-any.whl (1.2 kB)\n",
      "Installing collected packages: bs4\n",
      "Successfully installed bs4-0.0.2\n"
     ]
    },
    {
     "name": "stderr",
     "output_type": "stream",
     "text": [
      "\n",
      "[notice] A new release of pip is available: 24.2 -> 25.0\n",
      "[notice] To update, run: python.exe -m pip install --upgrade pip\n"
     ]
    }
   ],
   "source": [
    "!pip install bs4"
   ]
  },
  {
   "cell_type": "code",
   "execution_count": 41,
   "id": "d04f8e16-ca59-4d04-ab30-840301185566",
   "metadata": {},
   "outputs": [],
   "source": [
    "from bs4 import BeautifulSoup\n",
    "html_doc=\"\"\"\n",
    "<html>\n",
    "<title>Jhushiketh</title>\n",
    "<body><h2>Hello World</h2>\n",
    "<p class=\"content\">This is a paragraph</p>\n",
    "<p class=\"content\">This is a Good</p>\n",
    "<div id=\"container\">\n",
    "<ul>\n",
    "<li class=\"item\">Item 1</li>\n",
    "<li class=\"item\">Item 2</li>\n",
    "<li class=\"item\">Item 3</li>\n",
    "</ul>\n",
    "</div>\n",
    "</body>\n",
    "</html>\"\"\""
   ]
  },
  {
   "cell_type": "code",
   "execution_count": 42,
   "id": "ca9bb442-f38e-4a95-8bdd-a215ee53d751",
   "metadata": {},
   "outputs": [
    {
     "name": "stdout",
     "output_type": "stream",
     "text": [
      "\n",
      "<html>\n",
      "<title>Jhushiketh</title>\n",
      "<body><h2>Hello World</h2>\n",
      "<p class=\"content\">This is a paragraph</p>\n",
      "<p class=\"content\">This is a Good</p>\n",
      "<div id=\"container\">\n",
      "<ul>\n",
      "<li class=\"item\">Item 1</li>\n",
      "<li class=\"item\">Item 2</li>\n",
      "<li class=\"item\">Item 3</li>\n",
      "</ul>\n",
      "</div>\n",
      "</body>\n",
      "</html>\n"
     ]
    }
   ],
   "source": [
    "soup=BeautifulSoup(html_doc,\"html.parser\")\n",
    "print(soup)"
   ]
  },
  {
   "cell_type": "code",
   "execution_count": 43,
   "id": "dcb69903-598f-4603-8d0f-b310dea9fbd2",
   "metadata": {},
   "outputs": [
    {
     "name": "stdout",
     "output_type": "stream",
     "text": [
      "\n",
      " Find the firrst paragraph: This is a paragraph\n",
      "\n",
      " Find the firrst paragraph: [<p class=\"content\">This is a paragraph</p>, <p class=\"content\">This is a Good</p>]\n",
      "[None, None]\n"
     ]
    }
   ],
   "source": [
    "#***Findinf Elements****\n",
    "print(\"\\n Find the firrst paragraph:\",(soup.find(\"p\").text)) #First <p> tag\n",
    "print(\"\\n Find the firrst paragraph:\",soup.find_all(\"p\"))  #Finding all Tag\n",
    "x=[]\n",
    "for i in soup.find_all(\"p\"):\n",
    "    x.append(i.txt)\n",
    "print(x)"
   ]
  },
  {
   "cell_type": "code",
   "execution_count": 44,
   "id": "340231df-ddd9-4de5-b0e6-be3594e1ae26",
   "metadata": {},
   "outputs": [
    {
     "name": "stdout",
     "output_type": "stream",
     "text": [
      "\n",
      "Using CSS Selection:\n",
      "This is a paragraph\n",
      "This is a Good\n",
      "\n",
      "\n",
      "Item 1\n",
      "Item 2\n",
      "Item 3\n",
      "\n",
      "\n",
      "Item 2\n"
     ]
    }
   ],
   "source": [
    "#***Using CSS Select ***\n",
    "print(\"\\nUsing CSS Selection:\")\n",
    "print(soup.select(\"p\")[0].text) #select by tag\n",
    "print(soup.select(\".content\")[1].text) #Select by class\n",
    "print(soup.select(\"#container\")[0].text) #Select  All item in <ul>\n",
    "print(soup.select(\"#container ul li\")[1].text) #Select Second list item in <ul>"
   ]
  },
  {
   "cell_type": "code",
   "execution_count": null,
   "id": "443a275b-5cfe-45a3-a77b-01ea1d49371e",
   "metadata": {},
   "outputs": [],
   "source": []
  }
 ],
 "metadata": {
  "kernelspec": {
   "display_name": "Python 3 (ipykernel)",
   "language": "python",
   "name": "python3"
  },
  "language_info": {
   "codemirror_mode": {
    "name": "ipython",
    "version": 3
   },
   "file_extension": ".py",
   "mimetype": "text/x-python",
   "name": "python",
   "nbconvert_exporter": "python",
   "pygments_lexer": "ipython3",
   "version": "3.13.0"
  }
 },
 "nbformat": 4,
 "nbformat_minor": 5
}
